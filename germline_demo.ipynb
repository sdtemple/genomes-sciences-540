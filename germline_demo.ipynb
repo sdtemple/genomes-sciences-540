{
 "cells": [
  {
   "cell_type": "code",
   "execution_count": 1,
   "metadata": {},
   "outputs": [],
   "source": [
    "from copy import deepcopy"
   ]
  },
  {
   "cell_type": "code",
   "execution_count": 2,
   "metadata": {},
   "outputs": [],
   "source": [
    "def germline_hash(h):\n",
    "    hashid = 0\n",
    "    for j in range(len(h)):\n",
    "        hashid += (2 ** j) * h[j]\n",
    "    return hashid"
   ]
  },
  {
   "cell_type": "code",
   "execution_count": 3,
   "metadata": {},
   "outputs": [],
   "source": [
    "def germline_match(H):\n",
    "    M = {}\n",
    "    D = {}\n",
    "    for i in range(len(H)):\n",
    "        try:\n",
    "            D[germline_hash(H[i])].append(i)\n",
    "        except KeyError:\n",
    "            D[germline_hash(H[i])] = [i]\n",
    "            \n",
    "    for k in D.keys():\n",
    "        for i in range(len(D[k])):\n",
    "            for j in range(i+1,len(D[k])):\n",
    "                M[(i,j)] = H[i]\n",
    "    return M"
   ]
  },
  {
   "cell_type": "code",
   "execution_count": 4,
   "metadata": {},
   "outputs": [],
   "source": [
    "H1 = [[0,0,0,0],[0,0,0,0],[0,0,0,0],[0,0,0,0]]\n",
    "H2 = [[0,0,0,0],[0,0,0,0],[0,0,1,0],[0,0,0,1]]"
   ]
  },
  {
   "cell_type": "code",
   "execution_count": 5,
   "metadata": {},
   "outputs": [
    {
     "data": {
      "text/plain": [
       "{(0, 1): [0, 0, 0, 0],\n",
       " (0, 2): [0, 0, 0, 0],\n",
       " (0, 3): [0, 0, 0, 0],\n",
       " (1, 2): [0, 0, 0, 0],\n",
       " (1, 3): [0, 0, 0, 0],\n",
       " (2, 3): [0, 0, 0, 0]}"
      ]
     },
     "execution_count": 5,
     "metadata": {},
     "output_type": "execute_result"
    }
   ],
   "source": [
    "germline_match(H1)"
   ]
  },
  {
   "cell_type": "code",
   "execution_count": 6,
   "metadata": {},
   "outputs": [
    {
     "data": {
      "text/plain": [
       "{(0, 1): [0, 0, 0, 0]}"
      ]
     },
     "execution_count": 6,
     "metadata": {},
     "output_type": "execute_result"
    }
   ],
   "source": [
    "germline_match(H2)"
   ]
  },
  {
   "cell_type": "code",
   "execution_count": 13,
   "metadata": {},
   "outputs": [],
   "source": [
    "def germline_extend(m1,m2):\n",
    "    M = deepcopy(m2) \n",
    "    for k in m2.keys():\n",
    "        if k in m1.keys():\n",
    "            M[k] = m2[k] + m1[k]\n",
    "    return M"
   ]
  },
  {
   "cell_type": "code",
   "execution_count": 14,
   "metadata": {},
   "outputs": [],
   "source": [
    "H21 = [[0,0],[0,0],[0,0],[0,0]]\n",
    "H22 = [[0,0],[0,0],[1,0],[0,1]]"
   ]
  },
  {
   "cell_type": "code",
   "execution_count": 15,
   "metadata": {},
   "outputs": [
    {
     "data": {
      "text/plain": [
       "{(0, 1): [0, 0],\n",
       " (0, 2): [0, 0],\n",
       " (0, 3): [0, 0],\n",
       " (1, 2): [0, 0],\n",
       " (1, 3): [0, 0],\n",
       " (2, 3): [0, 0]}"
      ]
     },
     "execution_count": 15,
     "metadata": {},
     "output_type": "execute_result"
    }
   ],
   "source": [
    "H21m = germline_match(H21)\n",
    "H21m"
   ]
  },
  {
   "cell_type": "code",
   "execution_count": 16,
   "metadata": {},
   "outputs": [
    {
     "data": {
      "text/plain": [
       "{(0, 1): [0, 0]}"
      ]
     },
     "execution_count": 16,
     "metadata": {},
     "output_type": "execute_result"
    }
   ],
   "source": [
    "H22m = germline_match(H22)\n",
    "H22m"
   ]
  },
  {
   "cell_type": "code",
   "execution_count": 17,
   "metadata": {},
   "outputs": [
    {
     "data": {
      "text/plain": [
       "{(0, 1): [0, 0, 0, 0]}"
      ]
     },
     "execution_count": 17,
     "metadata": {},
     "output_type": "execute_result"
    }
   ],
   "source": [
    "germline_extend(H21m,H22m)"
   ]
  },
  {
   "cell_type": "code",
   "execution_count": 18,
   "metadata": {},
   "outputs": [
    {
     "data": {
      "text/plain": [
       "{(0, 1): [0, 0, 0, 0],\n",
       " (0, 2): [0, 0],\n",
       " (0, 3): [0, 0],\n",
       " (1, 2): [0, 0],\n",
       " (1, 3): [0, 0],\n",
       " (2, 3): [0, 0]}"
      ]
     },
     "execution_count": 18,
     "metadata": {},
     "output_type": "execute_result"
    }
   ],
   "source": [
    "germline_extend(H22m,H21m)"
   ]
  }
 ],
 "metadata": {
  "kernelspec": {
   "display_name": "Python 3",
   "language": "python",
   "name": "python3"
  },
  "language_info": {
   "codemirror_mode": {
    "name": "ipython",
    "version": 3
   },
   "file_extension": ".py",
   "mimetype": "text/x-python",
   "name": "python",
   "nbconvert_exporter": "python",
   "pygments_lexer": "ipython3",
   "version": "3.6.4"
  }
 },
 "nbformat": 4,
 "nbformat_minor": 2
}
